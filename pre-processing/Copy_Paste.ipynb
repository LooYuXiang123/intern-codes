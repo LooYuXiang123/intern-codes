{
 "cells": [
  {
   "cell_type": "code",
   "execution_count": 3,
   "id": "3110b05b-9194-45c3-9ce3-307fe1f56a17",
   "metadata": {},
   "outputs": [],
   "source": [
    "#Loading the Libraries\n",
    "import cv2\n",
    "from IPython.display import Video\n",
    "import os, re\n",
    "import numpy as np\n",
    "import logging\n",
    "import matplotlib.pyplot as plt\n",
    "import PIL\n",
    "from PIL import Image\n",
    "import shutil"
   ]
  },
  {
   "cell_type": "code",
   "execution_count": 7,
   "id": "e7e6488d-c702-4427-9e1e-350b26a6cc2c",
   "metadata": {},
   "outputs": [],
   "source": [
    "def copy_annotations(frame_folder, annotation_folder):\n",
    "    for frame_folders in os.listdir(frame_folder):\n",
    "        print(\"Looking through folder\" + frame_folders)\n",
    "        accepted_files = os.path.join(frame_folder, frame_folders, \"labelledframes\", \"Bbox in range\")\n",
    "        for frames in os.listdir(accepted_files):\n",
    "            name = os.path.splitext(frames)[0]\n",
    "            annotation_file = os.path.join(annotation_folder, frame_folders,name + \".txt\") \n",
    "            shutil.copy(annotation_file, accepted_file)\n",
    "        print(\"Successfully Copied annotation for accepted frames into the respective folder\")"
   ]
  },
  {
   "cell_type": "code",
   "execution_count": 3,
   "id": "903d286b-7372-422b-947c-bb5bb5db1f89",
   "metadata": {},
   "outputs": [],
   "source": [
    "#Copying annotations file into the respective frame folder for data source 4\n",
    "annotation_folder = './Video_Dataset/Data_Source4/annotations/Annotation_folder/'\n",
    "frame_folder = './Video_Dataset/Data_Source4/Frame/'"
   ]
  },
  {
   "cell_type": "markdown",
   "id": "30548817-3d5d-46ab-a94d-872554d46474",
   "metadata": {},
   "source": [
    "### Copy Accepted Images from BBox folder to Initial Dataset folder"
   ]
  },
  {
   "cell_type": "code",
   "execution_count": 5,
   "id": "03b4145e-7472-4516-9935-60f024bde8e2",
   "metadata": {},
   "outputs": [],
   "source": [
    "def wanted_images(frame_folder, initial_set):\n",
    "    count = 0\n",
    "    for folders in os.listdir(frame_folder):\n",
    "        file_count = 0\n",
    "        labelledframes = 'labelledframes'\n",
    "        bbox = 'bbox in range'\n",
    "        bbox_folder = os.path.join(frame_folder, folders, labelledframes, bbox)\n",
    "        if len(os.listdir(bbox_folder)) == 0:\n",
    "            continue\n",
    "        else:\n",
    "            initial_set_folder = os.path.join(initial_set, folders)\n",
    "            try:\n",
    "                if not os.path.exists(initial_set_folder):\n",
    "                    os.makedirs(initial_set_folder)\n",
    "            except OSError:\n",
    "                logging.error('Error creating directory')\n",
    "            \n",
    "            for images in os.listdir(bbox_folder):\n",
    "                image_file = os.path.join(bbox_folder, images)\n",
    "                shutil.copy(image_file, initial_set_folder)\n",
    "                file_count += 1\n",
    "                count += 1\n",
    "        print('Total Number of images copied in folder ' + folders + ' are', file_count)\n",
    "    print('Total Number of images copied are', count)"
   ]
  },
  {
   "cell_type": "code",
   "execution_count": 6,
   "id": "625545a0-cad6-47ad-84f8-13c5a4cc7d7c",
   "metadata": {},
   "outputs": [
    {
     "name": "stdout",
     "output_type": "stream",
     "text": [
      "Total Number of images copied in folder Vid12 are 283\n",
      "Total Number of images copied in folder Vid26 are 1223\n",
      "Total Number of images copied in folder Vid5 are 741\n",
      "Total Number of images copied in folder Vid6 are 667\n",
      "Total Number of images copied in folder Vid7 are 1617\n",
      "Total Number of images copied in folder Vid8 are 765\n",
      "Total Number of images copied in folder Vid9 are 1095\n",
      "Total Number of images copied are 6391\n"
     ]
    }
   ],
   "source": [
    "frame_folder = './Video_Dataset/Data_Source3/Frame/'\n",
    "initial_set ='./Initial Dataset/Data Source 3/'\n",
    "wanted_images(frame_folder, initial_set)"
   ]
  },
  {
   "cell_type": "markdown",
   "id": "caf41592-341d-4e65-a387-8322fbe7740a",
   "metadata": {},
   "source": [
    "### Copy Annotations from Annotation folder to Initial Dataset Folder"
   ]
  },
  {
   "cell_type": "code",
   "execution_count": 9,
   "id": "0b4523a6-54b0-4ca0-8bda-fa477c464a2f",
   "metadata": {},
   "outputs": [],
   "source": [
    "def wanted_annotations(frame_folder, annotation_folder, initial_set):\n",
    "    for frame_folders in os.listdir(frame_folder):\n",
    "        accepted_files = os.path.join(frame_folder, frame_folders, \"labelledframes\", \"Bbox in range\")\n",
    "        if len(os.listdir(accepted_files)) >= 1:\n",
    "            for frames in os.listdir(accepted_files):\n",
    "                name = os.path.splitext(frames)[0]\n",
    "                annotation_file = os.path.join(annotation_folder, frame_folders, name + \".txt\")\n",
    "                initial_data = os.path.join(initial_set, frame_folders, name + \".png\")\n",
    "                data_path = os.path.join(initial_set, frame_folders)\n",
    "                if os.path.exists(initial_data) == True :\n",
    "                    shutil.copy(annotation_file, data_path)\n",
    "                else:\n",
    "                    print('Image ' + os.path.join(frame_folders, name) + ' does not exists in initial Dataset')\n",
    "                    continue\n",
    "        else:\n",
    "            continue\n",
    "        print(frame_folders)\n",
    "    print(\"Successfully copied annotation for accepted frames into the respective folder\")"
   ]
  },
  {
   "cell_type": "code",
   "execution_count": 16,
   "id": "ac3f6396-e24c-4dbf-94f3-c118e1afe1b1",
   "metadata": {},
   "outputs": [],
   "source": [
    "def wanted_annotations2(frame_folder, annotation_folder, initial_set):\n",
    "    for folders in os.listdir(frame_folder):\n",
    "        accepted_files = os.path.join(frame_folder, folders, \"labelledframes\", \"bbox in range\")\n",
    "        initial_set_folder = os.path.join(initial_set, folders)\n",
    "        if os.path.exists(initial_set_folder) == True:\n",
    "            for frames in os.listdir(accepted_files):\n",
    "                name = os.path.splitext(frames)[0]\n",
    "                annotation_file = os.path.join(annotation_folder, folders, name + \".txt\")\n",
    "                initial_data = os.path.join(initial_set, folders, name + \".png\")\n",
    "                data_path = os.path.join(initial_set, folders)\n",
    "                if os.path.exists(initial_data) == True :\n",
    "                    shutil.copy(annotation_file, data_path)\n",
    "                else:\n",
    "                    print('Image ' + os.path.join(folders, name) + ' does not exists in initial Dataset')\n",
    "                    continue\n",
    "        else:\n",
    "            continue\n",
    "        print(folders)\n",
    "    print(\"Successfully copied annotation for accepted frames into the respective folder\")"
   ]
  },
  {
   "cell_type": "code",
   "execution_count": 7,
   "id": "4db5cc6f-5b56-4ff5-956c-15b947fd5eea",
   "metadata": {},
   "outputs": [
    {
     "name": "stdout",
     "output_type": "stream",
     "text": [
      "Successfully copied annotation for accepted frames into the respective folder\n"
     ]
    }
   ],
   "source": [
    "#Copy paste the annotation to the respective images folder for Chosen Data Source 4\n",
    "annotation_folder= './Video_Dataset/Data_Source4/annotations/Annotation_folder/'\n",
    "frame_folder='./Video_Dataset/Data_Source4/Frame/'\n",
    "initial_set = './Initial Dataset/Data Source 4/'\n",
    "wanted_annotations(frame_folder, annotation_folder, initial_set)"
   ]
  },
  {
   "cell_type": "code",
   "execution_count": null,
   "id": "5d0d3154-22c5-405a-a5fb-c34ed668c6b4",
   "metadata": {},
   "outputs": [],
   "source": [
    "#Copy paste the annotation to the respective images folder for Chosen Data Source 3\n",
    "annotation_folder= './Video_Dataset/Data_Source3/annotations/Annotation_folder/'\n",
    "frame_folder='./Video_Dataset/Data_Source3/Frame/'\n",
    "initial_set = './Initial Dataset/Data Source 3/'\n",
    "wanted_annotations(frame_folder, annotation_folder, initial_set)"
   ]
  },
  {
   "cell_type": "code",
   "execution_count": 17,
   "id": "e69d0296-ded8-4bf8-bf8b-e553bba611d3",
   "metadata": {},
   "outputs": [
    {
     "name": "stdout",
     "output_type": "stream",
     "text": [
      "Vid1\n",
      "Vid2\n",
      "Vid3\n",
      "Successfully copied annotation for accepted frames into the respective folder\n"
     ]
    }
   ],
   "source": [
    "#Copy Paste the annotation to the respective images folder for Chose Data Source 2\n",
    "annotation_folder= './Video_Dataset/Data_Source2/Annotations/Annotation_folder/'\n",
    "frame_folder='./Video_Dataset/Data_Source2/Frame/'\n",
    "initial_set = './Initial Dataset/Data Source 2/'\n",
    "wanted_annotations2(frame_folder, annotation_folder, initial_set)"
   ]
  },
  {
   "cell_type": "code",
   "execution_count": 10,
   "id": "1678e354-bd51-4278-887b-dd8973bc3780",
   "metadata": {},
   "outputs": [
    {
     "name": "stdout",
     "output_type": "stream",
     "text": [
      "Done\n"
     ]
    }
   ],
   "source": [
    "frame_folder = './Video_Dataset/Data_Source4/Frame/video14/labelledframes/'\n",
    "annotation_folder = './Video_Dataset/Data_Source4/annotations/Annotation_folder/video14/'\n",
    "initial_data = './Initial Dataset/Data Source 4/video14/'\n",
    "\n",
    "for frames in os.listdir(frame_folder):\n",
    "    if os.path.splitext(frames)[1].lower() in [\".png\"]:\n",
    "        name = os.path.splitext(frames)[0]\n",
    "        annotation_file = os.path.join(annotation_folder, name + '.txt')\n",
    "        initial_set = os.path.join(initial_data, name +'.png')\n",
    "        if os.path.exists(initial_set) == True :\n",
    "            shutil.copy(annotation_file, initial_data)\n",
    "        else: \n",
    "            continue\n",
    "    else:\n",
    "        continue\n",
    "print(\"Done\")\n",
    "        \n",
    "        "
   ]
  },
  {
   "cell_type": "markdown",
   "id": "af2562c9-e20e-4d15-b215-e18f157a25ef",
   "metadata": {},
   "source": [
    "### Finalising Data"
   ]
  },
  {
   "cell_type": "code",
   "execution_count": 4,
   "id": "b72eb58a-a519-4cc5-b739-74e79292d7b1",
   "metadata": {},
   "outputs": [],
   "source": [
    "def finalising_data(data_folder, initial_set):\n",
    "    try:\n",
    "        if not os.path.exists(data_folder):\n",
    "            os.makedirs(data_folder)\n",
    "    except OSError:\n",
    "        logging.error('Error creating directory')\n",
    "    \n",
    "    for folders in os.listdir(initial_set):\n",
    "        file_count = 0\n",
    "        folders_path = os.path.join(initial_set,folders)\n",
    "        for files in os.listdir(folders_path):\n",
    "            if os.path.splitext(files)[1].lower() in ['.png', '.txt']:\n",
    "                file_path = os.path.join(folders_path, files)\n",
    "                shutil.copy(file_path, data_folder)\n",
    "                file_count += 1\n",
    "        print('Total number of files copied in folder ' + folders + ' are', file_count)\n",
    "    "
   ]
  },
  {
   "cell_type": "code",
   "execution_count": 10,
   "id": "c79ef84f-75fe-4d85-be2c-7c63eb445328",
   "metadata": {},
   "outputs": [
    {
     "name": "stdout",
     "output_type": "stream",
     "text": [
      "Total number of files copied in folder Vid12 are 566\n",
      "Total number of files copied in folder Vid26 are 2446\n",
      "Total number of files copied in folder Vid5 are 1482\n",
      "Total number of files copied in folder Vid6 are 1334\n",
      "Total number of files copied in folder Vid7 are 3234\n",
      "Total number of files copied in folder Vid8 are 1530\n",
      "Total number of files copied in folder Vid9 are 2190\n"
     ]
    }
   ],
   "source": [
    "data_folder = './data/'\n",
    "initial_set = './Initial Dataset/Data Source 3/'\n",
    "finalising_data(data_folder, initial_set)"
   ]
  },
  {
   "cell_type": "markdown",
   "id": "e43a2980-9179-4fdd-bad0-1e9f74e2b977",
   "metadata": {},
   "source": [
    "### Copy Kitti Annotation from initial Dataset to actual data source"
   ]
  },
  {
   "cell_type": "code",
   "execution_count": 10,
   "id": "2cd5d939-1688-4cf7-b00a-849d33e35844",
   "metadata": {},
   "outputs": [],
   "source": [
    "def copy_kitti_annotation(intial_set, data_source_folder):\n",
    "    count = 0\n",
    "    for folders in os.listdir(initial_set):\n",
    "        folder_path = os.path.join(initial_set, folders)\n",
    "        for files in os.listdir(folder_path):\n",
    "            if files.endswith('.txt'):\n",
    "                file_path = os.path.join(folder_path, files)\n",
    "                shutil.copy(file_path, data_source_folder)\n",
    "                count += 1\n",
    "    print('Total Number of files copied are', count)\n",
    "    print('Done')"
   ]
  },
  {
   "cell_type": "code",
   "execution_count": 11,
   "id": "98338224-38ee-4546-b364-b8ba5753e1eb",
   "metadata": {},
   "outputs": [
    {
     "name": "stdout",
     "output_type": "stream",
     "text": [
      "Total Number of files copied are 6391\n",
      "Done\n"
     ]
    }
   ],
   "source": [
    "initial_set ='./Initial Dataset/Data Source 3/'\n",
    "data_source_folder = './drone_data_unsplit/drone_data_unsplit/labels/'\n",
    "copy_kitti_annotation(initial_set, data_source_folder)"
   ]
  },
  {
   "cell_type": "code",
   "execution_count": 20,
   "id": "bab28a18-53e0-4437-b171-1d9cf69823d7",
   "metadata": {},
   "outputs": [],
   "source": [
    "def copy_kitti_annotation2(label_folder, split_data_source):\n",
    "    for folders in os.listdir(split_data_source):\n",
    "        train_val_folder = os.path.join(split_data_source, folders)\n",
    "        count = 0\n",
    "        for folder in os.listdir(train_val_folder):\n",
    "            if folder == 'images':\n",
    "                image_folder = os.path.join(train_val_folder, folder)\n",
    "                for images in os.listdir(image_folder):\n",
    "                    name = os.path.splitext(images)[0]\n",
    "                    annotation_file = os.path.join(label_folder, name + '.txt')\n",
    "                    splitted_label_folder = os.path.join(train_val_folder, 'labels/')\n",
    "                    shutil.copy(annotation_file, splitted_label_folder)\n",
    "                    count += 1\n",
    "            else:\n",
    "                continue\n",
    "        print('Total number of file copied to folder ' + folders + ' are', count)\n",
    "    print('done')"
   ]
  },
  {
   "cell_type": "code",
   "execution_count": 21,
   "id": "637e5cd4-5b88-4ce7-8e2d-ffeacdfd9362",
   "metadata": {},
   "outputs": [
    {
     "name": "stdout",
     "output_type": "stream",
     "text": [
      "Total number of file copied to folder training are 5112\n",
      "Total number of file copied to folder val are 1279\n",
      "done\n"
     ]
    }
   ],
   "source": [
    "split_data_source = './drone_data_split/drone_data_split/'\n",
    "label_folder = './drone_data_unsplit/drone_data_unsplit/labels/'\n",
    "copy_kitti_annotation2(label_folder, split_data_source)"
   ]
  },
  {
   "cell_type": "markdown",
   "id": "762f405f-27ff-410c-a5e1-ca32bf248b93",
   "metadata": {},
   "source": [
    "### Training data stuff"
   ]
  },
  {
   "cell_type": "code",
   "execution_count": 7,
   "id": "7bbe72e1-ad18-4665-b4cd-77b6b80dfe64",
   "metadata": {},
   "outputs": [],
   "source": [
    "def copy_training_data(annotation_folder, image_folder, training_folder):\n",
    "    count = 0\n",
    "    training_image = os.path.join(training_folder, 'images')\n",
    "    try:\n",
    "        if not os.path.exists(training_image):\n",
    "            os.makedirs(training_image)\n",
    "    except OSError:\n",
    "        logging.error('Error creating directory')\n",
    "    training_label = os.path.join(training_folder, 'labels')\n",
    "    try:\n",
    "        if not os.path.exists(training_label):\n",
    "            os.makedirs(training_label)\n",
    "    except OSError:\n",
    "        logging.error('Error creating directory')\n",
    "    for files in os.listdir(annotation_folder):\n",
    "        if files.endswith('.txt'):\n",
    "            annotation_file = os.path.join(annotation_folder, files)\n",
    "            name = os.path.splitext(files)[0]\n",
    "            image_file = os.path.join(image_folder, name + '.png')\n",
    "            shutil.move(annotation_file, training_label)\n",
    "            shutil.copy(image_file, training_image)\n",
    "            count += 1\n",
    "    print('Total number of files copied are', count)"
   ]
  },
  {
   "cell_type": "code",
   "execution_count": 8,
   "id": "f5d1fa1d-f25e-406a-8822-3acbb4d546c8",
   "metadata": {},
   "outputs": [
    {
     "name": "stdout",
     "output_type": "stream",
     "text": [
      "Total number of files copied are 655\n"
     ]
    }
   ],
   "source": [
    "annotation_folder = './drone_data_unsplit_resize/drone_data_unsplit_reszie/xml/'\n",
    "image_folder = './drone_data_unsplit_resize/drone_data_unsplit_reszie/images/'\n",
    "training_folder = './training_data/'\n",
    "copy_training_data(annotation_folder, image_folder, training_folder)"
   ]
  },
  {
   "cell_type": "code",
   "execution_count": null,
   "id": "9583f32f-e0ee-4ec7-a9b8-818b298c197a",
   "metadata": {},
   "outputs": [],
   "source": []
  }
 ],
 "metadata": {
  "kernelspec": {
   "display_name": "Python 3",
   "language": "python",
   "name": "python3"
  },
  "language_info": {
   "codemirror_mode": {
    "name": "ipython",
    "version": 3
   },
   "file_extension": ".py",
   "mimetype": "text/x-python",
   "name": "python",
   "nbconvert_exporter": "python",
   "pygments_lexer": "ipython3",
   "version": "3.8.8"
  }
 },
 "nbformat": 4,
 "nbformat_minor": 5
}
