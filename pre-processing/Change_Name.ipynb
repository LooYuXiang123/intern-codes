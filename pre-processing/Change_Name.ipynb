{
 "cells": [
  {
   "cell_type": "code",
   "execution_count": 3,
   "id": "55a5f9ab-9526-4b17-885b-122a930c6b6f",
   "metadata": {},
   "outputs": [],
   "source": [
    "#Loading the Libraries\n",
    "import cv2\n",
    "from IPython.display import Video\n",
    "import os, re\n",
    "import numpy as np\n",
    "import logging\n",
    "import matplotlib.pyplot as plt\n",
    "from PIL import Image"
   ]
  },
  {
   "cell_type": "code",
   "execution_count": 13,
   "id": "a2538c6b-893a-4df5-9252-2f46b1a26df8",
   "metadata": {},
   "outputs": [],
   "source": [
    "def change_name(annotation_folder, image_folder):\n",
    "    count = 0\n",
    "    for annotation_files in os.listdir(annotation_folder):\n",
    "        count += 1\n",
    "        annotation_dir = os.path.join(annotation_folder, annotation_files)\n",
    "        name = os.path.splitext(annotation_files)[0]\n",
    "        image_dir = os.path.join(image_folder,name + \".jpg\")\n",
    "        changed_annotation_name = os.path.join(annotation_folder, \"image%s.txt\" % count)\n",
    "        changed_image_name = os.path.join(image_folder,\"image%s.png\" % count)\n",
    "        os.rename(annotation_dir,changed_annotation_name)\n",
    "        os.rename(image_dir,changed_image_name)"
   ]
  },
  {
   "cell_type": "code",
   "execution_count": 14,
   "id": "a9f3e726-9145-471e-b70c-218f03b33874",
   "metadata": {},
   "outputs": [],
   "source": [
    "image_folder = \"./Video_Dataset/Data_Source5/images/\"\n",
    "annotation_folder = \"./Video_Dataset/Data_Source5/labels/\"\n",
    "change_name(annotation_folder, image_folder)"
   ]
  },
  {
   "cell_type": "markdown",
   "id": "a9e1c0e3-e32b-45b6-8129-972af72c07c9",
   "metadata": {},
   "source": [
    "### Changing the name of the subfolders in the different folder types"
   ]
  },
  {
   "cell_type": "code",
   "execution_count": 38,
   "id": "6986e531-c7e4-466f-b3f2-1d170f5cb03d",
   "metadata": {},
   "outputs": [],
   "source": [
    "def get_numbers_from_filename(filename):\n",
    "    return str(re.search(r'\\d+', filename).group(0))\n",
    "\n",
    "def change_name_folder(Frame_folder, Annotation_folder, Output_folder):\n",
    "    for folders in os.listdir(Frame_folder):\n",
    "        number = get_numbers_from_filename(folders)\n",
    "        Frame_folders = os.path.join(Frame_folder, folders)\n",
    "        Annotation_folders = os.path.join(Annotation_folder, folders)\n",
    "        Output_folders = os.path.join(Output_folder, folders)\n",
    "        if os.path.exists(Annotation_folders) == False and os.path.exists(Output_folders) == False:\n",
    "            os.rename(Frame_folders, Frame_folder + \"Vid\" + number)\n",
    "        else:\n",
    "            os.rename(Frame_folders, Frame_folder + \"Vid\" + number)\n",
    "            os.rename(Annotation_folders, Annotation_folder + \"Vid\" + number)\n",
    "            os.rename(Output_folders, Output_folder + \"Vid\" + number)\n",
    "    print('done')\n",
    "    \n",
    "def change_name_folder2(initial_folder):\n",
    "    for folders in os.listdir(initial_folder):\n",
    "        number = get_numbers_from_filename(folders)\n",
    "        initial_folders = os.path.join(initial_folder, folders)\n",
    "        os.rename(initial_folders, initial_folder + \"Vid\" + number)\n",
    "    print('done')"
   ]
  },
  {
   "cell_type": "code",
   "execution_count": 24,
   "id": "dceea678-bfa3-4539-92e1-ce495a6bf530",
   "metadata": {},
   "outputs": [],
   "source": [
    "#Changing Subfolder name for Data Source 1\n",
    "Frame_folder = './Video_Dataset/Data_Source1/Frame/'\n",
    "Annotation_folder = './Video_Dataset/Data_Source1/annotation/Annotation_folder/'\n",
    "Output_folder = './Video_Dataset/Data_Source1/Outputs/'\n",
    "change_name_folder(Frame_folder, Annotation_folder, Output_folder)"
   ]
  },
  {
   "cell_type": "code",
   "execution_count": 25,
   "id": "702d3e2a-9316-4cc6-bbf2-128f168efe02",
   "metadata": {},
   "outputs": [],
   "source": [
    "#Changing Subfolder name for Data Source 2\n",
    "Frame_folder = './Video_Dataset/Data_Source2/Frame/'\n",
    "Annotation_folder = './Video_Dataset/Data_Source2/Annotations/Annotation_folder/'\n",
    "Output_folder = './Video_Dataset/Data_Source2/Outputs/'\n",
    "change_name_folder(Frame_folder, Annotation_folder, Output_folder)"
   ]
  },
  {
   "cell_type": "code",
   "execution_count": null,
   "id": "9691f3d7-d2f6-4f2f-9949-6818e685d45b",
   "metadata": {},
   "outputs": [],
   "source": [
    "#Changing Subfolder name for Data Source 3\n",
    "Frame_folder = './Video_Dataset/Data_Source3/Frame/'\n",
    "Annotation_folder = './Video_Dataset/Data_Source3/annotations/Annotation_folder/'\n",
    "Output_folder = './Video_Dataset/Data_Source3/Outputs/'\n",
    "change_name_folder(Frame_folder, Annotation_folder, Output_folder)"
   ]
  },
  {
   "cell_type": "code",
   "execution_count": 36,
   "id": "34a0f9df-fd30-4f7f-967c-7871e748d38a",
   "metadata": {},
   "outputs": [
    {
     "name": "stdout",
     "output_type": "stream",
     "text": [
      "done\n"
     ]
    }
   ],
   "source": [
    "#Changing Subfolder name for Data Source 4\n",
    "Frame_folder = './Video_Dataset/Data_Source4/Frame/'\n",
    "Annotation_folder = './Video_Dataset/Data_Source4/annotations/Annotation_folder/'\n",
    "Output_folder = './Video_Dataset/Data_Source4/Outputs/'\n",
    "change_name_folder(Frame_folder, Annotation_folder, Output_folder)"
   ]
  },
  {
   "cell_type": "code",
   "execution_count": 39,
   "id": "26309605-5632-4149-9a0f-6b3d964d4276",
   "metadata": {},
   "outputs": [
    {
     "name": "stdout",
     "output_type": "stream",
     "text": [
      "done\n"
     ]
    }
   ],
   "source": [
    "#Changing subfolder name for Initial Data Source 2\n",
    "initial_dataset_folder = './Initial Dataset/Data Source 2/'\n",
    "change_name_folder2(initial_dataset_folder)"
   ]
  },
  {
   "cell_type": "code",
   "execution_count": 40,
   "id": "4c0cfce0-08aa-439d-9902-3db793244d98",
   "metadata": {},
   "outputs": [
    {
     "name": "stdout",
     "output_type": "stream",
     "text": [
      "done\n"
     ]
    }
   ],
   "source": [
    "#Changing subfolder name for Initial Data Source 4\n",
    "initial_dataset_folder = './Initial Dataset/Data Source 4/'\n",
    "change_name_folder2(initial_dataset_folder)"
   ]
  },
  {
   "cell_type": "markdown",
   "id": "26a3c5b8-2342-4c3b-b5d6-b31778116900",
   "metadata": {},
   "source": [
    "### Changing the name of the files (both images and annotations) to a specific format for identification purpose"
   ]
  },
  {
   "cell_type": "code",
   "execution_count": 1,
   "id": "a765e734-1d70-4748-bf4c-5817d8e7bce4",
   "metadata": {},
   "outputs": [],
   "source": [
    "def get_numbers_from_filenames(filename):\n",
    "    return int(re.search(r'\\d+', filename).group(0))\n",
    "\n",
    "def change_format_name(initial_set):\n",
    "    for dataset_folder in os.listdir(initial_set):\n",
    "        number = get_numbers_from_filenames(dataset_folder)\n",
    "        datasource_number = \"%03d\" % number\n",
    "        for folders in os.listdir(os.path.join(initial_set,dataset_folder)):\n",
    "            folders_path = os.path.join(initial_set, dataset_folder, folders)\n",
    "            for files in os.listdir(folders_path):\n",
    "                if os.path.splitext(files)[1].lower() in ['.png', '.jpg', '.jpeg']:\n",
    "                    file_path = os.path.join(folders_path,files)\n",
    "                    os.rename(file_path, os.path.join(folders_path, datasource_number + \"-\" + folders + \"-\" + files))\n",
    "                elif os.path.splitext(files)[1].lower() in ['.txt']:\n",
    "                    file_path = os.path.join(folders_path,files)\n",
    "                    os.rename(file_path, os.path.join(folders_path, datasource_number + \"-\" + folders + \"-\" + files))\n",
    "            print('Done Renaming files for folder' + folders_path)\n",
    "    print('Done')"
   ]
  },
  {
   "cell_type": "code",
   "execution_count": 63,
   "id": "9657082e-e239-4484-b739-cb2e84884420",
   "metadata": {
    "scrolled": true,
    "tags": []
   },
   "outputs": [
    {
     "name": "stdout",
     "output_type": "stream",
     "text": [
      "Done Renaming files for folder./Initial Dataset/Data Source 2\\Vid1\n",
      "Done Renaming files for folder./Initial Dataset/Data Source 2\\Vid2\n",
      "Done Renaming files for folder./Initial Dataset/Data Source 2\\Vid3\n",
      "Done Renaming files for folder./Initial Dataset/Data Source 3\\Vid12\n",
      "Done Renaming files for folder./Initial Dataset/Data Source 3\\Vid26\n",
      "Done Renaming files for folder./Initial Dataset/Data Source 3\\Vid5\n",
      "Done Renaming files for folder./Initial Dataset/Data Source 3\\Vid6\n",
      "Done Renaming files for folder./Initial Dataset/Data Source 3\\Vid7\n",
      "Done Renaming files for folder./Initial Dataset/Data Source 3\\Vid8\n",
      "Done Renaming files for folder./Initial Dataset/Data Source 3\\Vid9\n",
      "Done Renaming files for folder./Initial Dataset/Data Source 4\\Vid1\n",
      "Done Renaming files for folder./Initial Dataset/Data Source 4\\Vid12\n",
      "Done Renaming files for folder./Initial Dataset/Data Source 4\\Vid14\n",
      "Done Renaming files for folder./Initial Dataset/Data Source 4\\Vid15\n",
      "Done Renaming files for folder./Initial Dataset/Data Source 4\\Vid23\n",
      "Done Renaming files for folder./Initial Dataset/Data Source 4\\Vid24\n",
      "Done Renaming files for folder./Initial Dataset/Data Source 4\\Vid29\n",
      "Done Renaming files for folder./Initial Dataset/Data Source 4\\Vid3\n",
      "Done Renaming files for folder./Initial Dataset/Data Source 4\\Vid37\n",
      "Done Renaming files for folder./Initial Dataset/Data Source 4\\Vid38\n",
      "Done Renaming files for folder./Initial Dataset/Data Source 4\\Vid39\n",
      "Done Renaming files for folder./Initial Dataset/Data Source 4\\Vid4\n",
      "Done Renaming files for folder./Initial Dataset/Data Source 4\\Vid40\n",
      "Done Renaming files for folder./Initial Dataset/Data Source 4\\Vid42\n",
      "Done Renaming files for folder./Initial Dataset/Data Source 4\\Vid43\n",
      "Done Renaming files for folder./Initial Dataset/Data Source 4\\Vid46\n",
      "Done Renaming files for folder./Initial Dataset/Data Source 4\\Vid48\n",
      "Done Renaming files for folder./Initial Dataset/Data Source 4\\Vid49\n",
      "Done Renaming files for folder./Initial Dataset/Data Source 4\\Vid5\n",
      "Done Renaming files for folder./Initial Dataset/Data Source 4\\Vid51\n",
      "Done Renaming files for folder./Initial Dataset/Data Source 4\\Vid56\n",
      "Done Renaming files for folder./Initial Dataset/Data Source 4\\Vid58\n",
      "Done Renaming files for folder./Initial Dataset/Data Source 4\\Vid6\n",
      "Done Renaming files for folder./Initial Dataset/Data Source 4\\Vid60\n",
      "Done Renaming files for folder./Initial Dataset/Data Source 4\\Vid9\n",
      "Done\n"
     ]
    }
   ],
   "source": [
    "initial_set = './Initial Dataset/'\n",
    "change_format_name(initial_set)"
   ]
  },
  {
   "cell_type": "markdown",
   "id": "a7429960-1030-4ac4-a606-5b3e97a1217e",
   "metadata": {},
   "source": [
    "### Renaming synthetic data"
   ]
  },
  {
   "cell_type": "code",
   "execution_count": 6,
   "id": "a4f1a932-a30b-4c8d-b033-0586b077bc08",
   "metadata": {},
   "outputs": [
    {
     "name": "stdout",
     "output_type": "stream",
     "text": [
      "2542\n"
     ]
    }
   ],
   "source": [
    "file = './synData/labels/image_02542_img.txt'\n",
    "number = get_numbers_from_filenames(file)\n",
    "lol = \"%03d\" % number\n",
    "print(lol)"
   ]
  },
  {
   "cell_type": "code",
   "execution_count": 23,
   "id": "b05370f2-6a19-4bf9-aeab-5e2418ad3efa",
   "metadata": {},
   "outputs": [],
   "source": [
    "def get_numbers_from_filenames(filename):\n",
    "    return int(re.search(r'\\d+', filename).group(0))\n",
    "\n",
    "def change_name(sync_folder):\n",
    "    count = 0\n",
    "    for folders in os.listdir(sync_folder):\n",
    "        if folders == 'images':\n",
    "            image_folder = os.path.join(sync_folder, folders)\n",
    "            label_folder = os.path.join(sync_folder, 'labels')\n",
    "            for files in os.listdir(image_folder):\n",
    "                if os.path.splitext(files)[1].lower() in ['.png', '.jpg', '.jpeg']:\n",
    "                    number = get_numbers_from_filenames(files)\n",
    "                    name = os.path.splitext(files)[0]\n",
    "                    file_number = \"%05d\" % number\n",
    "                    image_file = os.path.join(image_folder, files)\n",
    "                    label_file = os.path.join(label_folder, name + '.txt')\n",
    "                    os.rename(image_file, os.path.join(image_folder, 'SyncData_image_' + file_number + '.png'))\n",
    "                    os.rename(label_file, os.path.join(label_folder, 'SyncData_image_' + file_number + '.txt'))\n",
    "                    count += 1\n",
    "    print('total number of files renamed are', count)"
   ]
  },
  {
   "cell_type": "code",
   "execution_count": 24,
   "id": "5678b06c-bef4-40b3-9ad7-74775d976a47",
   "metadata": {},
   "outputs": [
    {
     "name": "stdout",
     "output_type": "stream",
     "text": [
      "./synData/labels\n",
      "total number of files renamed are 6862\n"
     ]
    }
   ],
   "source": [
    "sync_folder = './synData/'\n",
    "change_name(sync_folder)"
   ]
  },
  {
   "cell_type": "code",
   "execution_count": null,
   "id": "ab799251-6e16-4cdd-83dc-61481ae6e1de",
   "metadata": {},
   "outputs": [],
   "source": []
  }
 ],
 "metadata": {
  "kernelspec": {
   "display_name": "Python 3",
   "language": "python",
   "name": "python3"
  },
  "language_info": {
   "codemirror_mode": {
    "name": "ipython",
    "version": 3
   },
   "file_extension": ".py",
   "mimetype": "text/x-python",
   "name": "python",
   "nbconvert_exporter": "python",
   "pygments_lexer": "ipython3",
   "version": "3.8.8"
  }
 },
 "nbformat": 4,
 "nbformat_minor": 5
}
