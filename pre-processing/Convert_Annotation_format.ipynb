{
 "cells": [
  {
   "cell_type": "code",
   "execution_count": 1,
   "id": "11c041fd-d3a0-4107-8a23-a26ebe1cd6d6",
   "metadata": {},
   "outputs": [
    {
     "ename": "ModuleNotFoundError",
     "evalue": "No module named 'pascal_voc_writer'",
     "output_type": "error",
     "traceback": [
      "\u001b[1;31m---------------------------------------------------------------------------\u001b[0m",
      "\u001b[1;31mModuleNotFoundError\u001b[0m                       Traceback (most recent call last)",
      "\u001b[1;32m<ipython-input-1-9068b7ee559d>\u001b[0m in \u001b[0;36m<module>\u001b[1;34m\u001b[0m\n\u001b[0;32m      1\u001b[0m \u001b[1;32mimport\u001b[0m \u001b[0mos\u001b[0m\u001b[1;33m\u001b[0m\u001b[1;33m\u001b[0m\u001b[0m\n\u001b[1;32m----> 2\u001b[1;33m \u001b[1;32mfrom\u001b[0m \u001b[0mpascal_voc_writer\u001b[0m \u001b[1;32mimport\u001b[0m \u001b[0mWriter\u001b[0m\u001b[1;33m\u001b[0m\u001b[1;33m\u001b[0m\u001b[0m\n\u001b[0m\u001b[0;32m      3\u001b[0m \u001b[1;32mfrom\u001b[0m \u001b[0mPIL\u001b[0m \u001b[1;32mimport\u001b[0m \u001b[0mImage\u001b[0m\u001b[1;33m\u001b[0m\u001b[1;33m\u001b[0m\u001b[0m\n",
      "\u001b[1;31mModuleNotFoundError\u001b[0m: No module named 'pascal_voc_writer'"
     ]
    }
   ],
   "source": [
    "import os\n",
    "from pascal_voc_writer import Writer\n",
    "from PIL import Image"
   ]
  },
  {
   "cell_type": "markdown",
   "id": "686d314c-6732-42a8-9100-1852e4c0a92d",
   "metadata": {},
   "source": [
    "### Converting Annotation Format from my format to Pascal VOC format"
   ]
  },
  {
   "cell_type": "code",
   "execution_count": 16,
   "id": "940bd622-1255-49f1-811a-b271f7ec8c5a",
   "metadata": {},
   "outputs": [],
   "source": [
    "def Convert_annotation_PascalVoc(initial_set):\n",
    "    for folders in os.listdir(initial_set):\n",
    "        folders_path = os.path.join(initial_set, folders)\n",
    "        image_list = []\n",
    "        for filename in os.listdir(folders_path):\n",
    "            if os.path.splitext(filename)[1].lower() in ['.png', '.jpg', '.jpeg']:\n",
    "                image_list.append(os.path.abspath(os.path.join(folders_path,filename)))\n",
    "            else:\n",
    "                continue\n",
    "        for i in range(len(image_list)):\n",
    "            #Image details\n",
    "            image = Image.open(image_list[i])\n",
    "            width = image.size[0]\n",
    "            height = image.size[1]\n",
    "            path = image_list[i]\n",
    "            writer = Writer(path, width, height)\n",
    "            #bbox and label\n",
    "            base_file_name = os.path.basename(image_list[i])\n",
    "            name = os.path.splitext(base_file_name)[0]\n",
    "            annotation_file = os.path.join(folders_path,name + '.txt')\n",
    "            with open(annotation_file, 'r') as file:\n",
    "                for lines in file:\n",
    "                    words = lines.split()\n",
    "                    ymin = int(words[0])\n",
    "                    xmin = int(words[1])\n",
    "                    ymax = int(words[2])\n",
    "                    xmax = int(words[3])\n",
    "                    writer.addObject('Drone', xmin, ymin, xmax, ymax)\n",
    "                file.close()\n",
    "            writer.save(os.path.join(folders_path, name + '.xml'))\n",
    "    print('Done')\n",
    "                \n",
    "            "
   ]
  },
  {
   "cell_type": "code",
   "execution_count": 17,
   "id": "144a468e-185e-4b9d-8df3-3070b7f0cef0",
   "metadata": {},
   "outputs": [],
   "source": [
    "#Converting the annotation format for annotation in chosen Data Source 3 to PascalVoc format\n",
    "initial_set = './Initial Dataset/Data Source 3'\n",
    "Convert_annotation_PascalVoc(initial_set)"
   ]
  },
  {
   "cell_type": "markdown",
   "id": "0648862c-00e6-4c85-adef-1f74c4d675c4",
   "metadata": {},
   "source": [
    "### Converting Annotation format from Pascal VOC format to Kitti annotation format"
   ]
  },
  {
   "cell_type": "code",
   "execution_count": 2,
   "id": "023d9610-7c80-4957-afe2-8e1b264c4a00",
   "metadata": {},
   "outputs": [
    {
     "name": "stdout",
     "output_type": "stream",
     "text": [
      "Finished. 741 Files are processed\n",
      "Finished. 667 Files are processed\n",
      "^C\n",
      "Finished. 765 Files are processed\n",
      "Finished. 1617 Files are processed\n",
      "Finished. 1095 Files are processed\n",
      "Finished. 283 Files are processed\n",
      "Finished. 1223 Files are processed\n",
      "Done\n"
     ]
    }
   ],
   "source": [
    "!python xml2kitti.py \"./Initial Dataset/Data Source 3/Vid5/\"\n",
    "!python xml2kitti.py \"./Initial Dataset/Data Source 3/Vid6/\"\n",
    "!python xml2kitti.py \"./Initial Dataset/Data Source 3/Vid7/\"\n",
    "!python xml2kitti.py \"./Initial Dataset/Data Source 3/Vid8/\"\n",
    "!python xml2kitti.py \"./Initial Dataset/Data Source 3/Vid9/\"\n",
    "!python xml2kitti.py \"./Initial Dataset/Data Source 3/Vid12/\"\n",
    "!python xml2kitti.py \"./Initial Dataset/Data Source 3/Vid26/\"\n",
    "print(\"Done\")"
   ]
  },
  {
   "cell_type": "code",
   "execution_count": 3,
   "id": "66ce2d74-8fe3-4f80-a338-01fb378c6c56",
   "metadata": {},
   "outputs": [
    {
     "name": "stdout",
     "output_type": "stream",
     "text": [
      "Finished. 512 Files are processed\n"
     ]
    }
   ],
   "source": [
    "!python xml2kitti.py \"./Video_Dataset/Test_Data/test_data/needed_change/\""
   ]
  },
  {
   "cell_type": "code",
   "execution_count": 5,
   "id": "cba082eb-4549-497b-a127-aec821b1ec9f",
   "metadata": {},
   "outputs": [
    {
     "name": "stdout",
     "output_type": "stream",
     "text": [
      "Finished. 57 Files are processed\n"
     ]
    }
   ],
   "source": [
    "!python xml2kitti.py \"./Video_Dataset/Test_Data/test_data/haiz/\""
   ]
  },
  {
   "cell_type": "code",
   "execution_count": 1,
   "id": "68c806fc-3785-483f-ba40-76a2b38a2fad",
   "metadata": {},
   "outputs": [
    {
     "name": "stdout",
     "output_type": "stream",
     "text": [
      "Finished. 656 Files are processed\n"
     ]
    }
   ],
   "source": [
    "!python xml2kitti.py \"./drone_data_unsplit_resize/drone_data_unsplit_reszie/xml/\""
   ]
  },
  {
   "cell_type": "code",
   "execution_count": 1,
   "id": "a6c2a6e6-5982-494c-b7ad-55f05e8156e5",
   "metadata": {},
   "outputs": [
    {
     "name": "stdout",
     "output_type": "stream",
     "text": [
      "Finished. 683 Files are processed\n"
     ]
    }
   ],
   "source": [
    "!python xml2kitti.py \"./drone_data_unsplit_resize/drone_data_unsplit_reszie/New folder/\""
   ]
  },
  {
   "cell_type": "code",
   "execution_count": 1,
   "id": "65d27927-6628-46b3-8ba2-2d2eb01595d1",
   "metadata": {},
   "outputs": [
    {
     "name": "stdout",
     "output_type": "stream",
     "text": [
      "Finished. 731 Files are processed\n"
     ]
    }
   ],
   "source": [
    "!python xml2kitti.py \"./live-recording/livestream22/annotations/"
   ]
  },
  {
   "cell_type": "code",
   "execution_count": 3,
   "id": "48b8eb06-f72c-46a3-b110-7c3454c56392",
   "metadata": {},
   "outputs": [
    {
     "name": "stdout",
     "output_type": "stream",
     "text": [
      "Finished. 2 Files are processed\n"
     ]
    }
   ],
   "source": [
    "!python xml2kitti.py \"./live-recording-2/0.95/livestream-0.95-13/lol/\""
   ]
  },
  {
   "cell_type": "code",
   "execution_count": 6,
   "id": "03baaa0c-9dc0-411d-bad2-6760ee1c83fe",
   "metadata": {},
   "outputs": [
    {
     "name": "stdout",
     "output_type": "stream",
     "text": [
      "Finished. 737 Files are processed\n"
     ]
    }
   ],
   "source": [
    "!python xml2kitti.py \"./live-recording-2/0.95/livestream-0.95-33/annotations/\""
   ]
  },
  {
   "cell_type": "code",
   "execution_count": 15,
   "id": "42888474-d6f4-48bf-9d4d-797b89e8b1df",
   "metadata": {},
   "outputs": [
    {
     "name": "stdout",
     "output_type": "stream",
     "text": [
      "Finished. 4 Files are processed\n"
     ]
    }
   ],
   "source": [
    "!python xml2kitti.py \"./live-recording-2/trimmed1080p/13_Trim/lol/\""
   ]
  },
  {
   "cell_type": "code",
   "execution_count": 17,
   "id": "3c233caf-26b3-42e8-a613-92109248cdad",
   "metadata": {},
   "outputs": [
    {
     "name": "stdout",
     "output_type": "stream",
     "text": [
      "Finished. 926 Files are processed\n"
     ]
    }
   ],
   "source": [
    "!python xml2kitti.py \"./live-recording-2/trimmed1080p/33_Trim/xml/\""
   ]
  },
  {
   "cell_type": "code",
   "execution_count": null,
   "id": "d0600e17-c929-4fcf-b69c-00579ee22bf9",
   "metadata": {},
   "outputs": [],
   "source": []
  }
 ],
 "metadata": {
  "kernelspec": {
   "display_name": "Python 3",
   "language": "python",
   "name": "python3"
  },
  "language_info": {
   "codemirror_mode": {
    "name": "ipython",
    "version": 3
   },
   "file_extension": ".py",
   "mimetype": "text/x-python",
   "name": "python",
   "nbconvert_exporter": "python",
   "pygments_lexer": "ipython3",
   "version": "3.8.8"
  }
 },
 "nbformat": 4,
 "nbformat_minor": 5
}
