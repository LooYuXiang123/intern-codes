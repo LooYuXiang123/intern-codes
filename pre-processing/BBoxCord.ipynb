{
 "cells": [
  {
   "cell_type": "code",
   "execution_count": 3,
   "id": "7cead848-d7eb-4549-8390-4111a0f7e186",
   "metadata": {},
   "outputs": [],
   "source": [
    "#Loading the Libraries\n",
    "import cv2\n",
    "from IPython.display import Video\n",
    "import os, re\n",
    "import numpy as np\n",
    "import logging\n",
    "import matplotlib.pyplot as plt\n",
    "from PIL import Image\n",
    "import shutil"
   ]
  },
  {
   "cell_type": "code",
   "execution_count": 1,
   "id": "d18ae291-6a93-4d18-addc-bc74adab46f6",
   "metadata": {},
   "outputs": [],
   "source": [
    "video_dataset1_file = './Video_Dataset/Data_Source1/Videos/'\n",
    "video_dataset1_frame = './Video_Dataset/Data_Source1/Frame/'\n",
    "annotation_dataset1_file = './Video_Dataset/Data_source1/annotation/'\n",
    "video_dataset2_file = './Video_Dataset/Data_Source2/Videos/'\n",
    "video_dataset2_frame = './Video_Dataset/Data_Source2/Frame/'\n",
    "annotation_dataset2_file = './Video_Dataset/Data_source2/Annotations/'\n",
    "video_dataset4_file = './Video_Dataset/Data_Source4/Video/'\n",
    "annotation_dataset4_file = './Video_Dataset/Data_Source4/annotations/'\n",
    "clip1 = './Video_Dataset/Data_Source3/video/internet26.avi'\n",
    "clip2 = './Video_Dataset/Test_Data/test_data_v2.mp4'\n",
    "clip = 'C://Users//Admin/Intern/Video_Dataset/Test_Data/Test_Data.mp4'"
   ]
  },
  {
   "cell_type": "code",
   "execution_count": 4,
   "id": "66eef93c-c00c-4ee0-bf64-3a2ba4a661b4",
   "metadata": {},
   "outputs": [
    {
     "name": "stdout",
     "output_type": "stream",
     "text": [
      "9609\n"
     ]
    }
   ],
   "source": [
    "cap = cv2.VideoCapture(clip)\n",
    "length = int(cap.get(cv2.CAP_PROP_FRAME_COUNT))\n",
    "print(length)"
   ]
  },
  {
   "cell_type": "markdown",
   "id": "96eda7f6-33e6-4007-a478-f777a3564e6e",
   "metadata": {},
   "source": [
    "### Trying to filter out annotations that are not drone related"
   ]
  },
  {
   "cell_type": "code",
   "execution_count": null,
   "id": "7d4c9612-8959-47c6-8e66-93027e94df9e",
   "metadata": {
    "scrolled": true,
    "tags": []
   },
   "outputs": [],
   "source": [
    "#Rewriting Annotation for video 12, to ensure that there is only one annotation in the frame\n",
    "#For Data Source 3 video 12\n",
    "Annotation_folder = './Video_Dataset/Data_Source3/annotations/annotations/'\n",
    "for folders in os.listdir(Annotation_folder):\n",
    "    for annotation in os.listdir(os.path.join(Annotation_folder, folders)):\n",
    "        annotation_file = os.path.join(Annotation_folder, folders, annotation)\n",
    "        print(annotation_file)\n",
    "        file = open(annotation_file, \"r\")\n",
    "        line_count = 0\n",
    "        for line in file:\n",
    "            if line != \"\\n\":\n",
    "                line_count += 1\n",
    "        print(line_count)\n",
    "        file.close()\n",
    "        if line_count >=2 :\n",
    "            info = []\n",
    "            info1 = []\n",
    "            info2 = []\n",
    "            f = open(annotation_file, \"r\")\n",
    "            for count,lines in enumerate(f):\n",
    "                if count == 0:\n",
    "                    words = lines.split()\n",
    "                    for elements in words:\n",
    "                        info1.append(elements)\n",
    "                    #string = ' '.join([str(elem) for elem in words])\n",
    "                    #info1.append(string)\n",
    "                elif count == 1:\n",
    "                    words = lines.split()\n",
    "                    for elements in words:\n",
    "                        info2.append(elements)\n",
    "                    #string = ' '.join([str(elem) for elem in words])\n",
    "                    #info2.append(string)\n",
    "            f.close()\n",
    "            #Open the same file again, but this time overwriting the old data with the new data\n",
    "            fs = open(annotation_file, \"w\")\n",
    "            print(info1)\n",
    "            if float(info1[2]) < float(info2[2]):\n",
    "                string = ' '.join([str(elem) for elem in info1]) \n",
    "                info.append(string)\n",
    "                for elements in info:\n",
    "                    fs.write(elements + \"\\n\")\n",
    "                fs.close()\n",
    "            else:\n",
    "                string = ' '.join([str(elem) for elem in info2]) \n",
    "                info.append(string)\n",
    "                for elements in info:\n",
    "                    fs.write(elements + \"\\n\")\n",
    "                fs.close()\n",
    "        else:\n",
    "            continue "
   ]
  },
  {
   "cell_type": "markdown",
   "id": "cb01546a-3d1e-4fb3-a143-17aca2f3eaa5",
   "metadata": {},
   "source": [
    "### Finding out which annotation file contain more than 1 annotation/Detection in the frames\n"
   ]
  },
  {
   "cell_type": "code",
   "execution_count": null,
   "id": "5fd3c9dd-756c-4e6f-81a6-5ef35f09b43b",
   "metadata": {},
   "outputs": [],
   "source": [
    "def detect_multiple_annotation(Annotation_folder):\n",
    "    count = 0\n",
    "    for folders in os.listdir(Annotation_folder):\n",
    "        for annotation in os.listdir(os.path.join(Annotation_folder,folders)):\n",
    "            annotation_file = os.path.join(Annotation_folder,folders,annotation)\n",
    "            file = open(annotation_file, 'r')\n",
    "            line_count = 0\n",
    "            for lines in file:\n",
    "                #If line is not empty(does not only contain \\n)\n",
    "                if lines != '\\n':\n",
    "                    line_count += 1\n",
    "            file.close()\n",
    "            #If file contain more than 1 annotations\n",
    "            if line_count >=2:\n",
    "                count += 1\n",
    "                print(os.path.join(folders, annotation) + ' contains more than 1 annotation')\n",
    "    if count == 0:\n",
    "        print('hell yeah, u r done')\n",
    "    else:\n",
    "        print(\"Jiayou! u left with\", count, \"checks\")\n",
    "        "
   ]
  },
  {
   "cell_type": "code",
   "execution_count": null,
   "id": "1400139b-5ed7-4746-8d2e-fa83d72f43aa",
   "metadata": {},
   "outputs": [],
   "source": [
    "#For Data Source 3\n",
    "Annotation_folder = './Video_Dataset/Data_Source3/annotations/Annotation_folder/'\n",
    "detect_multiple_annotation(Annotation_folder)"
   ]
  },
  {
   "cell_type": "markdown",
   "id": "51a4728b-0d64-4b40-9d15-030395c1f380",
   "metadata": {},
   "source": [
    "## Splitting the Video Annotation file into the invdividual Annotation file\n"
   ]
  },
  {
   "cell_type": "code",
   "execution_count": null,
   "id": "baff473e-8a9a-43a0-ad9c-6ae29b93e62a",
   "metadata": {},
   "outputs": [],
   "source": [
    "#For Data Source 1 and 2\n",
    "for filename in os.listdir(annotation_dataset2_file):\n",
    "    base_file_name = os.path.basename(filename)\n",
    "    file_name = os.path.splitext(base_file_name)[0]\n",
    "    folder_name = os.path.join(annotation_dataset2_file + file_name)\n",
    "    #making folder\n",
    "    try:\n",
    "        #Creating a folder\n",
    "        if not os.path.exists(folder_name):\n",
    "            os.makedirs(folder_name)\n",
    "        #Raise an error if folder is not created\n",
    "    except OSError:\n",
    "        logging.error('Error creating directory')\n",
    "    f = open(annotation_dataset2_file + file_name + '.txt', \"r\")\n",
    "    count = 0\n",
    "    for lines in f:\n",
    "        count += 1\n",
    "        cord = re.findall(r'\\(.*?\\)', lines)\n",
    "        new_file = open(folder_name + '/frame%s.txt' % count, \"w+\")\n",
    "        for element in cord:\n",
    "            element = re.sub('[()]','',element)\n",
    "            element = element.replace(',',' ')\n",
    "            new_file.write(element + \"\\n\")\n",
    "        new_file.close()"
   ]
  },
  {
   "cell_type": "code",
   "execution_count": null,
   "id": "bdb87dd5-6111-4bdb-a839-edffa43ec634",
   "metadata": {},
   "outputs": [],
   "source": [
    "# For data Source 4\n",
    "for filename in os.listdir(annotation_dataset4_file):\n",
    "    base_file_name = os.path.basename(filename)\n",
    "    file_name = os.path.splitext(base_file_name)[0]\n",
    "    folder_name = os.path.join(annotation_dataset4_file + file_name)\n",
    "    #making folder\n",
    "    try:\n",
    "        #Creating a folder\n",
    "        if not os.path.exists(folder_name):\n",
    "            os.makedirs(folder_name)\n",
    "        #Raise an error if folder is not created\n",
    "    except OSError:\n",
    "        logging.error('Error creating directory')\n",
    "    f = open(annotation_dataset4_file + file_name + '.txt', \"r\")\n",
    "    count = 0\n",
    "    for lines in f:\n",
    "        count += 1\n",
    "        new_file = open(folder_name + '/frame%s.txt' % count, \"w+\")\n",
    "        elements = lines.split()\n",
    "        num_of_drones = int(elements[1])\n",
    "        del elements[:2]\n",
    "        if num_of_drones > 0 :\n",
    "            split = np.array_split(elements, num_of_drones)\n",
    "            for lists in split:\n",
    "                list1 = lists.tolist()\n",
    "                new_file.write(' '.join([str(elem) for elem in list1]) + \"\\n\")\n",
    "            new_file.close()\n",
    "        else:\n",
    "            new_file.close()\n",
    "        "
   ]
  },
  {
   "cell_type": "markdown",
   "id": "fbfda620-e92c-46a7-b867-338f22e66985",
   "metadata": {},
   "source": [
    "### Rewriting the frames annotation file to include height, width and sqaure area of bbox"
   ]
  },
  {
   "cell_type": "code",
   "execution_count": null,
   "id": "6a3ac9c8-66b5-446e-b551-f8c6466745cd",
   "metadata": {
    "scrolled": true,
    "tags": []
   },
   "outputs": [],
   "source": [
    "#For Data Source 1\n",
    "Annotation_folders = './Video_Dataset/Data_source1/annotation/Annotation_folder'\n",
    "for files in os.listdir(Annotation_folders):\n",
    "    print(files)\n",
    "    for annotation in os.listdir(os.path.join(Annotation_folders, files)):\n",
    "        #Read the file to get the lines as data\n",
    "        annotation_text = os.path.join(Annotation_folders,files,annotation)\n",
    "        print(annotation_text)\n",
    "        f = open(annotation_text, \"r\")\n",
    "        info = []\n",
    "        for lines in f:\n",
    "            words = lines.split()\n",
    "            ymin = int(words[0])\n",
    "            xmin = int(words[1])\n",
    "            ymax = int(words[2])\n",
    "            xmax = int(words[3])\n",
    "            width = xmax - xmin\n",
    "            height = ymax - ymin\n",
    "            area = width * height\n",
    "            words.extend([width,height,area])\n",
    "            string = ' '.join([str(elem) for elem in words])\n",
    "            info.append(string)\n",
    "        f.close()\n",
    "        #Open the same file again, but this time overwriting the old data with the new data\n",
    "        with open(annotation_text, \"w\") as fs:\n",
    "            for elements in info:\n",
    "                fs.write(elements + \"\\n\")\n",
    "            fs.close()\n"
   ]
  },
  {
   "cell_type": "code",
   "execution_count": null,
   "id": "951a96b8-4ee5-4d9b-aed9-404fee362401",
   "metadata": {
    "scrolled": true,
    "tags": []
   },
   "outputs": [],
   "source": [
    "#For Data Source 2\n",
    "Annotation_folders = './Video_Dataset/Data_source2/Annotations/Annotation_folder'\n",
    "for files in os.listdir(Annotation_folders):\n",
    "    print(files)\n",
    "    for annotation in os.listdir(os.path.join(Annotation_folders, files)):\n",
    "        #Read the file to get the lines as data\n",
    "        annotation_text = os.path.join(Annotation_folders,files,annotation)\n",
    "        print(annotation_text)\n",
    "        f = open(annotation_text, \"r\")\n",
    "        info = []\n",
    "        for lines in f:\n",
    "            words = lines.split()\n",
    "            ymin = int(words[0])\n",
    "            xmin = int(words[1])\n",
    "            ymax = int(words[2])\n",
    "            xmax = int(words[3])\n",
    "            width = xmax - xmin\n",
    "            height = ymax - ymin\n",
    "            area = width * height\n",
    "            words.extend([width,height,area])\n",
    "            string = ' '.join([str(elem) for elem in words])\n",
    "            info.append(string)\n",
    "        f.close()\n",
    "        #Open the same file again, but this time overwriting the old data with the new data\n",
    "        with open(annotation_text, \"w\") as fs:\n",
    "            for elements in info:\n",
    "                fs.write(elements + \"\\n\")\n",
    "            fs.close()\n",
    "    print(\"Finish overwriting all annotations file for Folder \" + files)"
   ]
  },
  {
   "cell_type": "code",
   "execution_count": null,
   "id": "f5b3f069-22ef-4c72-8428-cc374b7995ba",
   "metadata": {
    "scrolled": true,
    "tags": []
   },
   "outputs": [],
   "source": [
    "#For Data Source 3\n",
    "Annotation_folders = './Video_Dataset/Data_Source3/annotations/Annotation_folder'\n",
    "for folders in os.listdir(Annotation_folders):\n",
    "    for annotations in os.listdir(os.path.join(Annotation_folders, folders)):\n",
    "        info = []\n",
    "        info2 = []\n",
    "        annotation_file = os.path.join(Annotation_folders, folders, annotations)\n",
    "        print(annotation_file)\n",
    "        with open(annotation_file, 'r') as f:\n",
    "            for lines in f:\n",
    "                words = lines.split()\n",
    "                labels = words[0]\n",
    "                xmin = float(words[1])\n",
    "                ymin = float(words[2])\n",
    "                xmax = float(words[3])\n",
    "                ymax = float(words[4])\n",
    "                width = int(xmax) - int(xmin)\n",
    "                height = int(ymax) - int(ymin)\n",
    "                area = width * height\n",
    "                info = [int(ymin), int(xmin), int(ymax), int(xmax), width, height, area]\n",
    "                string = ' '.join([str(elem) for elem in info])\n",
    "                info2.append(string)\n",
    "            f.close()\n",
    "            #Open the same file again, but this time overwriting the old data with the new data\n",
    "            with open(annotation_file, 'w') as fs:\n",
    "                for elements in info2:\n",
    "                    fs.write(elements + '\\n')\n",
    "                fs.close()\n",
    "    print('Finish overwriting all annotations for folder ' + folders)\n",
    "print('done')"
   ]
  },
  {
   "cell_type": "code",
   "execution_count": null,
   "id": "6201f551-dec0-40b1-a57d-3193641f2336",
   "metadata": {
    "scrolled": true,
    "tags": []
   },
   "outputs": [],
   "source": [
    "#For Data Source 4\n",
    "Annotation_folders = './Video_Dataset/Data_source4/annotations/Annotation_folder'\n",
    "for files in os.listdir(Annotation_folders):\n",
    "    print(files)\n",
    "    for annotation in os.listdir(os.path.join(Annotation_folders, files)):\n",
    "        #Read the file to get the lines as data\n",
    "        annotation_text = os.path.join(Annotation_folders,files,annotation)\n",
    "        print(annotation_text)\n",
    "        f = open(annotation_text, \"r\")\n",
    "        info = []\n",
    "        for lines in f:\n",
    "            words = lines.split()\n",
    "            xmin = int(words[0])\n",
    "            ymin = int(words[1])\n",
    "            width = int(words[2])\n",
    "            height = int(words[3])\n",
    "            xmax = width + xmin\n",
    "            ymax = height + ymin\n",
    "            area = width * height\n",
    "            word = [ymin, xmin, ymax, xmax, width, height, area]\n",
    "            string = ' '.join([str(elem) for elem in word])\n",
    "            info.append(string)\n",
    "        f.close()\n",
    "         #Open the same file again, but this time overwriting the old data with the new data\n",
    "        with open(annotation_text, \"w\") as fs:\n",
    "            for elements in info:\n",
    "                fs.write(elements + '\\n')\n",
    "            fs.close()\n",
    "    print(\"Finish overwriting all annotations file for Folder \" + files)"
   ]
  },
  {
   "cell_type": "code",
   "execution_count": null,
   "id": "2d146ee8-de12-4d03-97c0-edb13bf05f8c",
   "metadata": {},
   "outputs": [],
   "source": [
    "#Data Source 5\n",
    "annotation_folder = \"./Video_Dataset/Data_Source6/labels/\"\n",
    "for annotation_files in os.listdir(annotation_folder):\n",
    "    annotation_dir = os.path.join(annotation_folder, annotation_files)\n",
    "    name = os.path.splitext(annotation_files)[0]\n",
    "    f = open(annotation_dir, \"r\")\n",
    "    info = []\n",
    "    for lines in f:\n",
    "        _, x, y, w, h = map(float, lines.split(' '))\n",
    "        xmin = int(x - w / 2) \n",
    "        xmax = int(x + w / 2)\n",
    "        ymin = int(y - h / 2)\n",
    "        ymax = int(y + h / 2)\n",
    "        area = w * h\n",
    "        word = [ymin, xmin, ymax, xmax, w, h, area]\n",
    "        string = ' '.join([str(elem) for elem in word])\n",
    "        info.append(string)\n",
    "    f.close()\n",
    "    with open(annotation_dir, \"w\") as fs:\n",
    "        for elements in info:\n",
    "            fs.write(elements + '\\n')\n",
    "        fs.close()\n",
    "print(\"Finish overwriting all annotations file for Folder \" + annotation_folder)"
   ]
  },
  {
   "cell_type": "markdown",
   "id": "de6f22c4-65df-44d5-abac-5c23de8ed57e",
   "metadata": {},
   "source": [
    "## Drawing the Boudning Box coordinates on the frames itself (just to see if the annotations are correct)"
   ]
  },
  {
   "cell_type": "code",
   "execution_count": null,
   "id": "a9e36428-c0e3-4fba-bf36-476a8cd3b214",
   "metadata": {
    "scrolled": true,
    "tags": []
   },
   "outputs": [],
   "source": [
    "#For Data Source 1\n",
    "individual_annotation_file = './Video_Dataset/Data_Source1/Annotations/Annotation_folder/'\n",
    "frame_folder = './Video_Dataset/Data_Source1/Frame/'\n",
    "output_directory = './Video_Dataset/Data_Source1/Outputs/'\n",
    "count = 0\n",
    "for filename in os.listdir(individual_annotation_file):\n",
    "    count +=1\n",
    "    output_dir = output_directory + filename\n",
    "    try:\n",
    "        #Creating a folder\n",
    "        if not os.path.exists(output_dir):\n",
    "            os.makedirs(output_dir)\n",
    "    #Raise an error if folder is not created\n",
    "    except OSError:\n",
    "        logging.error('Error creating directory')\n",
    "    #\n",
    "    for frames in os.listdir(os.path.join(individual_annotation_file, filename)):\n",
    "        frame = os.path.splitext(frames)[0]\n",
    "        image_frame = os.path.join(frame_folder,filename,frame + \".png\")\n",
    "        frame_image = cv2.imread(image_frame)\n",
    "        annotation_file = os.path.join(individual_annotation_file, filename, frames)\n",
    "        print(annotation_file)\n",
    "        #If text file does not have annotation\n",
    "        if os.stat(annotation_file).st_size == 0:\n",
    "            print(\"Frame does not contain drone\")\n",
    "            cv2.imwrite(output_dir + \"/\" + frame + \".png\", frame_image)\n",
    "        #If text file have annotation\n",
    "        else:\n",
    "            f = open(annotation_file, \"r\")\n",
    "            for line in f:\n",
    "                words = line.split()\n",
    "                ymin = int(words[0])\n",
    "                xmin = int(words[1])\n",
    "                ymax = int(words[2])\n",
    "                xmax = int(words[3])\n",
    "                start_point = (xmin,ymin)\n",
    "                end_point= (xmax,ymax)\n",
    "                color = (255,0,0)\n",
    "                image = cv2.rectangle(frame_image, start_point, end_point, color , 2)\n",
    "            cv2.imwrite(output_dir + \"/\" + frame + \".png\", image)\n",
    "                #plt.imshow(image)\n",
    "                #plt.show()\n",
    "        "
   ]
  },
  {
   "cell_type": "code",
   "execution_count": null,
   "id": "03884718-a582-40e5-aacb-fe7acf16d228",
   "metadata": {
    "scrolled": true,
    "tags": []
   },
   "outputs": [],
   "source": [
    "#For datasource 2\n",
    "individual_annotation_file = './Video_Dataset/Data_Source2/Annotations/Annotation_folder/'\n",
    "frame_folder = './Video_Dataset/Data_Source2/Frame/'\n",
    "output_directory = './Video_Dataset/Data_Source2/Outputs/'\n",
    "count = 0\n",
    "for filename in os.listdir(individual_annotation_file):\n",
    "    count +=1\n",
    "    output_dir = output_directory + filename\n",
    "    try:\n",
    "        #Creating a folder\n",
    "        if not os.path.exists(output_dir):\n",
    "            os.makedirs(output_dir)\n",
    "    #Raise an error if folder is not created\n",
    "    except OSError:\n",
    "        logging.error('Error creating directory')\n",
    "    #\n",
    "    for frames in os.listdir(os.path.join(individual_annotation_file, filename)):\n",
    "        frame = os.path.splitext(frames)[0]\n",
    "        image_frame = os.path.join(frame_folder,filename,frame + \".png\")\n",
    "        frame_image = cv2.imread(image_frame)\n",
    "        annotation_file = os.path.join(individual_annotation_file, filename, frames)\n",
    "        print(annotation_file)\n",
    "        #If text file does not have annotation\n",
    "        if os.stat(annotation_file).st_size == 0:\n",
    "            print(\"Frame does not contain drone\")\n",
    "            cv2.imwrite(output_dir + \"/\" + frame + \".png\", frame_image)\n",
    "        #If text file have annotation\n",
    "        else:\n",
    "            f = open(annotation_file, \"r\")\n",
    "            for line in f:\n",
    "                words = line.split()\n",
    "                ymin = int(words[0])\n",
    "                xmin = int(words[1])\n",
    "                ymax = int(words[2])\n",
    "                xmax = int(words[3])\n",
    "                start_point = (xmin,ymin)\n",
    "                end_point= (xmax,ymax)\n",
    "                color = (255,0,0)\n",
    "                image = cv2.rectangle(frame_image, start_point, end_point, color , 2)\n",
    "            cv2.imwrite(output_dir + \"/\" + frame + \".png\", image)\n",
    "                #plt.imshow(image)\n",
    "                #plt.show()\n",
    "        "
   ]
  },
  {
   "cell_type": "code",
   "execution_count": null,
   "id": "e6594bf2-b5fe-4fc6-9cbb-e447b4ace163",
   "metadata": {},
   "outputs": [],
   "source": [
    "#For datasource 3\n",
    "Annotation_folder ='./Video_Dataset/Data_Source3/annotations/Annotation_folder/'\n",
    "Frame_folder = './Video_Dataset/Data_Source3/Frame/'\n",
    "Output_Directory ='./Video_Dataset/Data_Source3/Outputs/'\n",
    "for folders in os.listdir(Annotation_folder):\n",
    "    output_dir = os.path.join(Output_Directory, folders)\n",
    "    try:\n",
    "        #Creating a new Folder\n",
    "        if not os.path.exists(output_dir):\n",
    "            os.makedirs(output_dir)\n",
    "    except OSError:\n",
    "        logging.error('Error creating directory')\n",
    "    for annotation in os.listdir(os.path.join(Annotation_folder, folders)):\n",
    "        annotation_file = os.path.join(Annotation_folder, folders, annotation)\n",
    "        name = os.path.splitext(annotation)[0]\n",
    "        image_file = os.path.join(Frame_folder, folders, name + '.png')\n",
    "        image = cv2.imread(image_file)\n",
    "        #No Image for the specific annotation\n",
    "        if os.path.exists(image_file) == False:\n",
    "            print('image file does not exist for ' + os.path.join(folders, annotation))\n",
    "        #Image does not contain drone annotation\n",
    "        elif os.stat(annotation_file).st_size == 0:\n",
    "            cv2.imwrite(os.path.join(output_dir, name + '.png'), image)\n",
    "        #Image contain drone annotation\n",
    "        else:\n",
    "            with open(annotation_file, 'r') as f:\n",
    "                for lines in f:\n",
    "                    words = lines.split()\n",
    "                    ymin = int(words[0])\n",
    "                    xmin = int(words[1])\n",
    "                    ymax = int(words[2])\n",
    "                    xmax = int(words[3])\n",
    "                    start_point = (xmin,ymin)\n",
    "                    end_point= (xmax,ymax)\n",
    "                    color = (255,0,0)\n",
    "                    frame = cv2.rectangle(image, start_point, end_point, color , 2)\n",
    "            cv2.imwrite(os.path.join(output_dir,name + '.png'), image)"
   ]
  },
  {
   "cell_type": "code",
   "execution_count": null,
   "id": "fc1e23cd-e5b8-4d61-89a9-fb38009ec4a6",
   "metadata": {
    "scrolled": true,
    "tags": []
   },
   "outputs": [],
   "source": [
    "#For datasource 4\n",
    "individual_annotation_file = './Video_Dataset/Data_Source4/annotations/Annotation_folder/'\n",
    "frame_folder = './Video_Dataset/Data_Source4/Frame/'\n",
    "output_directory = './Video_Dataset/Data_Source4/Outputs/'\n",
    "count = 0\n",
    "for filename in os.listdir(individual_annotation_file):\n",
    "    count +=1\n",
    "    output_dir = output_directory + filename\n",
    "    try:\n",
    "        #Creating a folder\n",
    "        if not os.path.exists(output_dir):\n",
    "            os.makedirs(output_dir)\n",
    "    #Raise an error if folder is not created\n",
    "    except OSError:\n",
    "        logging.error('Error creating directory')\n",
    "    #\n",
    "    for frames in os.listdir(os.path.join(individual_annotation_file, filename)):\n",
    "        frame = os.path.splitext(frames)[0]\n",
    "        image_frame = os.path.join(frame_folder,filename,frame + \".png\")\n",
    "        frame_image = cv2.imread(image_frame)\n",
    "        annotation_file = os.path.join(individual_annotation_file, filename, frames)\n",
    "        print(annotation_file)\n",
    "        #If text file does not have annotation\n",
    "        if os.stat(annotation_file).st_size == 0:\n",
    "            print(\"Frame does not contain drone\")\n",
    "            cv2.imwrite(output_dir + \"/\" + frame + \".png\", frame_image)\n",
    "        #If text file have annotation\n",
    "        else:\n",
    "            f = open(annotation_file, \"r\")\n",
    "            for line in f:\n",
    "                words = line.split()\n",
    "                xmin = int(words[0])\n",
    "                ymin = int(words[1])\n",
    "                width = int(words[2])\n",
    "                height = int(words[3])\n",
    "                xmax = xmin + width\n",
    "                ymax = ymin + height\n",
    "                start_point = (xmin,ymin)\n",
    "                end_point= (xmax,ymax)\n",
    "                color = (255,0,0)\n",
    "                image = cv2.rectangle(frame_image, start_point, end_point, color , 2)\n",
    "            cv2.imwrite(output_dir + \"/\" + frame + \".png\", image)\n",
    "                #plt.imshow(image)\n",
    "                #plt.show()"
   ]
  },
  {
   "cell_type": "code",
   "execution_count": null,
   "id": "cfbc03e9-bec5-42b1-8da6-010ce860d9c7",
   "metadata": {},
   "outputs": [],
   "source": [
    "#Data Source5\n",
    "annotation_folder = \"./Video_Dataset/Data_Source5/labels/\"\n",
    "image_folder = \"./Video_Dataset/Data_Source5/images/\"\n",
    "output_folder = \"./Video_Dataset/Data_Source5/Outputs/\"\n",
    "\n",
    "for annotation_file in os.listdir(annotation_folder):\n",
    "    annotation_file_dir = os.path.join(annotation_folder,annotation_file)\n",
    "    name = os.path.splitext(annotation_file)[0]\n",
    "    image_file_dir = os.path.join(image_folder,name + \".png\")\n",
    "    image = cv2.imread(image_file_dir)\n",
    "    #If text file does not have annotation\n",
    "    if os.stat(annotation_file_dir).st_size == 0:\n",
    "        print(\"Frame does not contain drone\")\n",
    "        cv2.imwrite(output_folder + \"/\" + name + \".png\", image)\n",
    "    else:\n",
    "        f = open(annotation_file_dir, \"r\")\n",
    "        for line in f:\n",
    "            words = line.split()\n",
    "            ymin = float(words[0])\n",
    "            xmin = float(words[1])\n",
    "            ymax = float(words[2])\n",
    "            xmax = float(words[3])\n",
    "            width = float(words[4])\n",
    "            height = float(words[5])\n",
    "            area = float(words[6])\n",
    "            start_point = (int(xmin),int(ymin))\n",
    "            end_point= (int(xmax),int(ymax))\n",
    "            color = (255,0,0)\n",
    "        img = cv2.rectangle(image, start_point, end_point, color , 2)\n",
    "        cv2.imwrite(output_folder + name + \".png\", img)"
   ]
  },
  {
   "cell_type": "code",
   "execution_count": null,
   "id": "2a9792db-db4c-4e3c-9c54-21cc1ed568ca",
   "metadata": {},
   "outputs": [],
   "source": [
    "#Data Source6\n",
    "annotation_folder = \"./Video_Dataset/Data_Source6/labels/\"\n",
    "image_folder = \"./Video_Dataset/Data_Source6/images/\"\n",
    "output_folder = \"./Video_Dataset/Data_Source6/Outputs/\"\n",
    "\n",
    "try:\n",
    "    #Creating a folder\n",
    "    if not os.path.exists(output_folder):\n",
    "        os.makedirs(output_folder)\n",
    "#Raise an error if folder is not created\n",
    "except OSError:\n",
    "    logging.error('Error creating directory')\n",
    "    \n",
    "for annotation_file in os.listdir(annotation_folder):\n",
    "    annotation_file_dir = os.path.join(annotation_folder,annotation_file)\n",
    "    name = os.path.splitext(annotation_file)[0]\n",
    "    image_file_dir = os.path.join(image_folder,name + \".jpg\")\n",
    "    image = cv2.imread(image_file_dir)\n",
    "    #If text file does not have annotation\n",
    "    if os.stat(annotation_file_dir).st_size == 0:\n",
    "        print(\"Frame does not contain drone\")\n",
    "        cv2.imwrite(output_folder + \"/\" + name + \".png\", image)\n",
    "    else:\n",
    "        f = open(annotation_file_dir, \"r\")\n",
    "        for line in f:\n",
    "            words = line.split()\n",
    "            ymin = float(words[0])\n",
    "            xmin = float(words[1])\n",
    "            ymax = float(words[2])\n",
    "            xmax = float(words[3])\n",
    "            width = float(words[4])\n",
    "            height = float(words[5])\n",
    "            area = float(words[6])\n",
    "            start_point = (int(xmin),int(ymin))\n",
    "            end_point= (int(xmax),int(ymax))\n",
    "            color = (255,0,0)\n",
    "        img = cv2.rectangle(image, start_point, end_point, color , 2)\n",
    "        cv2.imwrite(output_folder + name + \".png\", img)"
   ]
  },
  {
   "cell_type": "code",
   "execution_count": 6,
   "id": "0c350bf6-193a-4f21-b1ef-c9d51c67c902",
   "metadata": {},
   "outputs": [
    {
     "data": {
      "image/png": "[encoded data removed]",
      "text/plain": [
       "<Figure size 432x288 with 1 Axes>"
      ]
     },
     "metadata": {
      "needs_background": "light"
     },
     "output_type": "display_data"
    }
   ],
   "source": [
    "#test\n",
    "image = './drone_data_split/drone_data_split/training/images/003-Vid5-frame104.png'\n",
    "annotation = './drone_data_split/drone_data_split/training/labels/003-Vid5-frame104.txt'\n",
    "\n",
    "image_file = cv2.imread(image)\n",
    "with open(annotation, 'r') as f:\n",
    "    for lines in f:\n",
    "        annotations = lines.split()\n",
    "        x1, y1, x2, y2 = [float(annotations[4]), float(annotations[5]), float(annotations[6]), float(annotations[7])]\n",
    "        start_point = (int(x1), int(y1))\n",
    "        end_point = (int(x2), int(y2))\n",
    "        color = (255,0,0)\n",
    "        img = cv2.rectangle(image_file, start_point, end_point, color , 2)\n",
    "f.close()\n",
    "imgplot = plt.imshow(img)"
   ]
  },
  {
   "cell_type": "markdown",
   "id": "3eaf617f-4c23-479e-8af1-0bdab75d0e4f",
   "metadata": {},
   "source": [
    "### Drawing BBOX on images of kitti annotation format"
   ]
  },
  {
   "cell_type": "code",
   "execution_count": 55,
   "id": "7273383c-1cc4-4b3f-8d97-5bd500fadeef",
   "metadata": {},
   "outputs": [],
   "source": [
    "def draw_bbox_kitti(label_folder, image_folder):\n",
    "    count = 0\n",
    "    #making folder\n",
    "    output_folder = os.path.join(image_folder, 'output')\n",
    "    try:\n",
    "        #Creating a folder\n",
    "        if not os.path.exists(output_folder):\n",
    "            os.makedirs(output_folder)\n",
    "        #Raise an error if folder is not created\n",
    "    except OSError:\n",
    "        logging.error('Error creating directory')\n",
    "    for files in os.listdir(label_folder):\n",
    "        if files.endswith('.txt'):\n",
    "            annotation_file = os.path.join(label_folder, files)\n",
    "            name = os.path.splitext(files)[0]\n",
    "            image_file = os.path.join(image_folder, name + '.png')\n",
    "            if os.path.exists(image_file) == False:\n",
    "                print(image_file + ' does not exists')\n",
    "            else:\n",
    "                image = cv2.imread(image_file)\n",
    "                if os.stat(annotation_file).st_size == 0:\n",
    "                    cv2.imwrite(os.path.join(output_folder, name + \".png\"), image)\n",
    "                    count += 1\n",
    "                else:\n",
    "                    with open(annotation_file, 'r') as f:\n",
    "                        for lines in f:\n",
    "                            annotations = lines.split()\n",
    "                            x1, y1, x2, y2 = [float(annotations[4]), float(annotations[5]), float(annotations[6]), float(annotations[7])]\n",
    "                            start_point = (int(x1), int(y1))\n",
    "                            end_point = (int(x2), int(y2))\n",
    "                            color = (255,0,0)\n",
    "                            thickness = 2\n",
    "                            img = cv2.rectangle(image, start_point, end_point, color , 2, thickness)\n",
    "                            cv2.imwrite(os.path.join(output_folder, name + \".png\"), img)\n",
    "                    f.close()\n",
    "                    #img = cv2.rectangle(image, start_point, end_point, color , 2, thickness)\n",
    "                    count += 1\n",
    "                    #cv2.imwrite(os.path.join(output_folder, name + \".png\"), img)\n",
    "    print('Total number of output files created are', count)"
   ]
  },
  {
   "cell_type": "code",
   "execution_count": 61,
   "id": "8b8a0c82-2e19-4c24-9027-20c01e9fb450",
   "metadata": {},
   "outputs": [
    {
     "name": "stdout",
     "output_type": "stream",
     "text": [
      "Total number of output files created are 928\n"
     ]
    }
   ],
   "source": [
    "image_folder = './live-recording-2/trimmed1080p/13_Trim/frames/'\n",
    "label_folder = './live-recording-2/trimmed1080p/13_Trim/annotations/'\n",
    "draw_bbox_kitti(label_folder, image_folder)"
   ]
  },
  {
   "cell_type": "code",
   "execution_count": 15,
   "id": "341bc54a-49af-43b5-9c95-c307cb2c9e76",
   "metadata": {},
   "outputs": [
    {
     "name": "stdout",
     "output_type": "stream",
     "text": [
      "Total number of output files created are 730\n"
     ]
    }
   ],
   "source": [
    "image_folder = './live-recording-2/0.5/livestream-0.50-28/frames/'\n",
    "label_folder = './live-recording-2/0.5/livestream-0.50-28/annotations/'\n",
    "draw_bbox_kitti(label_folder, image_folder)"
   ]
  },
  {
   "cell_type": "code",
   "execution_count": 10,
   "id": "64dee4a5-af80-4a60-8b23-82cacb04d445",
   "metadata": {},
   "outputs": [
    {
     "name": "stdout",
     "output_type": "stream",
     "text": [
      "Total number of output files created are 8994\n"
     ]
    }
   ],
   "source": [
    "image_folder = './Video_Dataset/Test_Data/test_data/images/'\n",
    "label_folder = './Video_Dataset/Test_Data/test_data/labels/'\n",
    "draw_bbox_kitti(label_folder, image_folder)"
   ]
  },
  {
   "cell_type": "code",
   "execution_count": 3,
   "id": "1d000b32-76bd-4f32-aa00-b17fca88a4e1",
   "metadata": {},
   "outputs": [
    {
     "name": "stdout",
     "output_type": "stream",
     "text": [
      "Total number of output files created are 6391\n"
     ]
    }
   ],
   "source": [
    "image_folder = './drone_data_unsplit_resize/drone_data_unsplit_reszie/images/'\n",
    "label_folder = './drone_data_unsplit_resize/drone_data_unsplit_reszie/labels/'\n",
    "draw_bbox_kitti(label_folder, image_folder)"
   ]
  },
  {
   "cell_type": "code",
   "execution_count": 4,
   "id": "09bf72d1-9365-4907-a8f8-3b145f5c7236",
   "metadata": {},
   "outputs": [
    {
     "ename": "KeyboardInterrupt",
     "evalue": "",
     "output_type": "error",
     "traceback": [
      "\u001b[1;31m---------------------------------------------------------------------------\u001b[0m",
      "\u001b[1;31mKeyboardInterrupt\u001b[0m                         Traceback (most recent call last)",
      "\u001b[1;32m<ipython-input-4-f1219c385116>\u001b[0m in \u001b[0;36m<module>\u001b[1;34m\u001b[0m\n\u001b[0;32m      1\u001b[0m \u001b[0mimage_folder\u001b[0m \u001b[1;33m=\u001b[0m \u001b[1;34m'./synData_unsplit/synData_unsplit/images/'\u001b[0m\u001b[1;33m\u001b[0m\u001b[1;33m\u001b[0m\u001b[0m\n\u001b[0;32m      2\u001b[0m \u001b[0mlabel_folder\u001b[0m \u001b[1;33m=\u001b[0m \u001b[1;34m'./synData_unsplit/synData_unsplit/labels/'\u001b[0m\u001b[1;33m\u001b[0m\u001b[1;33m\u001b[0m\u001b[0m\n\u001b[1;32m----> 3\u001b[1;33m \u001b[0mdraw_bbox_kitti\u001b[0m\u001b[1;33m(\u001b[0m\u001b[0mlabel_folder\u001b[0m\u001b[1;33m,\u001b[0m \u001b[0mimage_folder\u001b[0m\u001b[1;33m)\u001b[0m\u001b[1;33m\u001b[0m\u001b[1;33m\u001b[0m\u001b[0m\n\u001b[0m",
      "\u001b[1;32m<ipython-input-2-ff07c813cf5c>\u001b[0m in \u001b[0;36mdraw_bbox_kitti\u001b[1;34m(label_folder, image_folder)\u001b[0m\n\u001b[0;32m     30\u001b[0m                 \u001b[0mimg\u001b[0m \u001b[1;33m=\u001b[0m \u001b[0mcv2\u001b[0m\u001b[1;33m.\u001b[0m\u001b[0mrectangle\u001b[0m\u001b[1;33m(\u001b[0m\u001b[0mimage\u001b[0m\u001b[1;33m,\u001b[0m \u001b[0mstart_point\u001b[0m\u001b[1;33m,\u001b[0m \u001b[0mend_point\u001b[0m\u001b[1;33m,\u001b[0m \u001b[0mcolor\u001b[0m \u001b[1;33m,\u001b[0m \u001b[1;36m2\u001b[0m\u001b[1;33m)\u001b[0m\u001b[1;33m\u001b[0m\u001b[1;33m\u001b[0m\u001b[0m\n\u001b[0;32m     31\u001b[0m                 \u001b[0mcount\u001b[0m \u001b[1;33m+=\u001b[0m \u001b[1;36m1\u001b[0m\u001b[1;33m\u001b[0m\u001b[1;33m\u001b[0m\u001b[0m\n\u001b[1;32m---> 32\u001b[1;33m                 \u001b[0mcv2\u001b[0m\u001b[1;33m.\u001b[0m\u001b[0mimwrite\u001b[0m\u001b[1;33m(\u001b[0m\u001b[0mos\u001b[0m\u001b[1;33m.\u001b[0m\u001b[0mpath\u001b[0m\u001b[1;33m.\u001b[0m\u001b[0mjoin\u001b[0m\u001b[1;33m(\u001b[0m\u001b[0moutput_folder\u001b[0m\u001b[1;33m,\u001b[0m \u001b[0mname\u001b[0m \u001b[1;33m+\u001b[0m \u001b[1;34m\".png\"\u001b[0m\u001b[1;33m)\u001b[0m\u001b[1;33m,\u001b[0m \u001b[0mimg\u001b[0m\u001b[1;33m)\u001b[0m\u001b[1;33m\u001b[0m\u001b[1;33m\u001b[0m\u001b[0m\n\u001b[0m\u001b[0;32m     33\u001b[0m     \u001b[0mprint\u001b[0m\u001b[1;33m(\u001b[0m\u001b[1;34m'Total number of output files created are'\u001b[0m\u001b[1;33m,\u001b[0m \u001b[0mcount\u001b[0m\u001b[1;33m)\u001b[0m\u001b[1;33m\u001b[0m\u001b[1;33m\u001b[0m\u001b[0m\n",
      "\u001b[1;31mKeyboardInterrupt\u001b[0m: "
     ]
    }
   ],
   "source": [
    "image_folder = './synData_unsplit/synData_unsplit/images/'\n",
    "label_folder = './synData_unsplit/synData_unsplit/labels/'\n",
    "draw_bbox_kitti(label_folder, image_folder)"
   ]
  },
  {
   "cell_type": "code",
   "execution_count": 6,
   "id": "8585dbd2-0c06-46ba-b12a-ed2f262881c2",
   "metadata": {},
   "outputs": [],
   "source": [
    "def draw_bbox_kitti_v2(label_folder, image_folder):\n",
    "    count = 0\n",
    "    #making folder\n",
    "    dirname = os.path.dirname(label_folder)\n",
    "    output_folder = os.path.join(dirname, 'images')\n",
    "    try:\n",
    "        #Creating a folder\n",
    "        if not os.path.exists(output_folder):\n",
    "            os.makedirs(output_folder)\n",
    "        #Raise an error if folder is not created\n",
    "    except OSError:\n",
    "        logging.error('Error creating directory')\n",
    "    for files in os.listdir(label_folder):\n",
    "        if files.endswith('.txt'):\n",
    "            annotation_file = os.path.join(label_folder, files)\n",
    "            name = os.path.splitext(files)[0]\n",
    "            image_file = os.path.join(image_folder, name + '.png')\n",
    "            if os.path.exists(image_file) == False:\n",
    "                print(image_file + ' does not exists')\n",
    "                break\n",
    "            else:\n",
    "                image = cv2.imread(image_file)\n",
    "                with open(annotation_file, 'r') as f:\n",
    "                    for lines in f:\n",
    "                        annotations = lines.split()\n",
    "                        x1, y1, x2, y2 = [float(annotations[4]), float(annotations[5]), float(annotations[6]), float(annotations[7])]\n",
    "                        start_point = (int(x1), int(y1))\n",
    "                        end_point = (int(x2), int(y2))\n",
    "                        color = (255,0,0)\n",
    "                        thickness = 1\n",
    "                f.close()\n",
    "                img = cv2.rectangle(image, start_point, end_point, color , 2, thickness)\n",
    "                count += 1\n",
    "                cv2.imwrite(os.path.join(output_folder, name + \".png\"), img)\n",
    "    print('Total number of output files created are', count)"
   ]
  },
  {
   "cell_type": "code",
   "execution_count": 7,
   "id": "763c8337-06b8-429d-a84b-68a8f871c3b7",
   "metadata": {},
   "outputs": [
    {
     "name": "stdout",
     "output_type": "stream",
     "text": [
      "Total number of output files created are 9609\n"
     ]
    }
   ],
   "source": [
    "image_folder ='./Video_Dataset/Test_Data/labelled_test_data/labelled_test_data/images/'\n",
    "label_folder = './inference_output/test data/od_frcnn_inference_combine_retrain(epoch_80)/labels'\n",
    "draw_bbox_kitti_v2(label_folder, image_folder)"
   ]
  },
  {
   "cell_type": "code",
   "execution_count": null,
   "id": "2b058228-b455-446c-a1dc-8de44abe75ea",
   "metadata": {},
   "outputs": [],
   "source": []
  }
 ],
 "metadata": {
  "kernelspec": {
   "display_name": "Python 3",
   "language": "python",
   "name": "python3"
  },
  "language_info": {
   "codemirror_mode": {
    "name": "ipython",
    "version": 3
   },
   "file_extension": ".py",
   "mimetype": "text/x-python",
   "name": "python",
   "nbconvert_exporter": "python",
   "pygments_lexer": "ipython3",
   "version": "3.8.8"
  }
 },
 "nbformat": 4,
 "nbformat_minor": 5
}
